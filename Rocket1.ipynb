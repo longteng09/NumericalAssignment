{
 "cells": [
  {
   "cell_type": "code",
   "execution_count": 16,
   "metadata": {
    "collapsed": false
   },
   "outputs": [],
   "source": [
    "import numpy\n",
    "from math import sin, cos, log, pi\n",
    "from matplotlib import pyplot\n",
    "%matplotlib inline\n",
    "from matplotlib import rcParams\n",
    "rcParams['font.family'] = 'serif'\n",
    "rcParams['font.size'] = 16\n",
    "# model parameters:\n",
    "Ms= 50  # mass in kg\n",
    "#Mp=interate#####\n",
    "#Mp_dot=#########\n",
    "g = 9.81 # gravity in S^{2}\n",
    "p=1.091 # kg/(m^{3})\n",
    "A = 0.25*pi # area in M^{2}  \n",
    "V_e = 325  # velcoity in M/s\n",
    "C_D = 0.15\n",
    "m_po=100 # 100kg at t=0 in kilogram\n",
    "### set initial conditions ###\n",
    "H0 = 0 #start ar the ground\n",
    "V0 = 0 #satrt at the ground\n",
    "#----------------------------------------------------------------\n",
    "def MpFun(totaltime):\n",
    "    if totaltime<=5:\n",
    "        rate=20.\n",
    "        final=100.-totaltime*rate\n",
    "    else:\n",
    "        final=0.  \n",
    "    return final\n",
    "#----------------------------------------------------------------\n",
    "def Mp_dotFun(totaltime):\n",
    "    if totaltime<=5:\n",
    "          rate=20.\n",
    "    else:\n",
    "          rate=0.\n",
    "    return rate\n",
    "#----------------------------------------------------------------\n",
    "def f(u):\n",
    "    #H=u[0]   \n",
    "    V=u[1]\n",
    "    return numpy.array([V,  \n",
    "                        -g + (1./(Ms + Mp))*Mp_dot*V_e-\\\n",
    "                        0.5*(1./(Ms + Mp))*A*C_D*p*V*numpy.abs(V)])  \n",
    "\n",
    "#----------------------------------------------------------------\n",
    "\n",
    "def euler_step(u, f, dt):\n",
    "  \n",
    "    \n",
    "    return u + dt * f(u)\n",
    "#----------------------------------------------------------------\n",
    "T = 100                         # final time\n",
    "dt = 0.1                           # time increment\n",
    "N = int(T/dt) + 1                  # number of time-steps\n",
    "t = numpy.linspace(0, T, N)      # time discretization\n",
    "time=t\n",
    "# initialize the array containing the solution for each time-step\n",
    "u = numpy.empty((N, 2))\n",
    "u[0] = numpy.array([H0, V0])# fill 1st element with initial values\n",
    "\n",
    "# time loop - Euler method\n",
    "for n in range(N-1):\n",
    "    t1 = time[n]\n",
    "    Mp = MpFun(t1)\n",
    "    Mp_dot = Mp_dotFun(t1)\n",
    "    u[n+1] = euler_step(u[n], f, dt)\n",
    "#----------------------------------------------------------------\n",
    "H = u[:,0]\n",
    "V = u[:,1]\n",
    "\n",
    "#print(\"H=\",H)\n",
    "#print(\"V=\",V)"
   ]
  },
  {
   "cell_type": "code",
   "execution_count": 18,
   "metadata": {
    "collapsed": false
   },
   "outputs": [
    {
     "name": "stdout",
     "output_type": "stream",
     "text": [
      "On branch master\r\n",
      "Your branch is up-to-date with 'origin/master'.\r\n",
      "\r\n",
      "Changes not staged for commit:\r\n",
      "  (use \"git add/rm <file>...\" to update what will be committed)\r\n",
      "  (use \"git checkout -- <file>...\" to discard changes in working directory)\r\n",
      "\r\n",
      "\t\u001b[31mdeleted:    lesson1_1.py\u001b[m\r\n",
      "\t\u001b[31mmodified:   ../MAE6287/Untitled.ipynb\u001b[m\r\n",
      "\t\u001b[31mmodified:   ../lessons/01_phugoid/01_01_Phugoid_Theory.ipynb\u001b[m\r\n",
      "\t\u001b[31mmodified:   ../lessons/01_phugoid/01_02_Phugoid_Oscillation.ipynb\u001b[m\r\n",
      "\t\u001b[31mmodified:   ../lessons/01_phugoid/01_03_PhugoidFullModel.ipynb\u001b[m\r\n",
      "\t\u001b[31mmodified:   ../lessons/01_phugoid/01_04_Second_Order_Methods.ipynb\u001b[m\r\n",
      "\r\n",
      "Untracked files:\r\n",
      "  (use \"git add <file>...\" to include in what will be committed)\r\n",
      "\r\n",
      "\t\u001b[31mChallenge1&2.ipynb\u001b[m\r\n",
      "\t\u001b[31mRocket1.ipynb\u001b[m\r\n",
      "\t\u001b[31mTime test.ipynb\u001b[m\r\n",
      "\t\u001b[31mUntitled.ipynb\u001b[m\r\n",
      "\t\u001b[31mchallenge3.1.ipynb\u001b[m\r\n",
      "\t\u001b[31mchallenge3.2.ipynb\u001b[m\r\n",
      "\t\u001b[31mchallenge3.ipynb\u001b[m\r\n",
      "\t\u001b[31mchallenge4.ipynb\u001b[m\r\n",
      "\t\u001b[31mfor loop test for challeng 3.ipynb\u001b[m\r\n",
      "\t\u001b[31mhomework one.ipynb\u001b[m\r\n",
      "\t\u001b[31mlearn_01_02_Phugoid_Oscillation.ipynb\u001b[m\r\n",
      "\t\u001b[31mlearn_01_03_PhugoidFullModel\u001b[m\r\n",
      "\t\u001b[31mlearn_01_03_PhugoidFullModel.ipynb\u001b[m\r\n",
      "\t\u001b[31mlearn_01_04_Second_Order_Methods.ipynb\u001b[m\r\n",
      "\t\u001b[31m../MAE6289/\u001b[m\r\n",
      "\r\n",
      "no changes added to commit (use \"git add\" and/or \"git commit -a\")\r\n"
     ]
    }
   ],
   "source": [
    "!git status"
   ]
  },
  {
   "cell_type": "code",
   "execution_count": 15,
   "metadata": {
    "collapsed": false
   },
   "outputs": [
    {
     "data": {
      "text/plain": [
       "0.02"
      ]
     },
     "execution_count": 15,
     "metadata": {},
     "output_type": "execute_result"
    }
   ],
   "source": [
    "1/50\n"
   ]
  },
  {
   "cell_type": "code",
   "execution_count": 11,
   "metadata": {
    "collapsed": false
   },
   "outputs": [
    {
     "name": "stdout",
     "output_type": "stream",
     "text": [
      "377\n",
      "H= [  0.00000000e+00   0.00000000e+00   3.35233333e-01 ...,  -5.42216311e+03\n",
      "  -5.43089949e+03  -5.43963587e+03]\n",
      "V= [  0.           3.35233333   6.76273724 ..., -87.36380757 -87.36380759\n",
      " -87.36380761]\n"
     ]
    },
    {
     "data": {
      "image/png": "[encoded data removed]",
      "text/plain": [
       "<matplotlib.figure.Figure at 0x7fe80efec7f0>"
      ]
     },
     "metadata": {},
     "output_type": "display_data"
    }
   ],
   "source": [
    "#----------------------------------------------------------------\n",
    "# get the index of element of y where altitude becomes negative\n",
    "idx_negative_euler = numpy.where(H<0.0)[0]\n",
    "if len(idx_negative_euler)==0:\n",
    "    idx_ground_euler = N-1\n",
    "    print ('Euler integration has not touched ground yet!')\n",
    "else:\n",
    "    idx_ground_euler = idx_negative_euler[0]\n",
    "    \n",
    "#--------------------------------------------------------------------------\n",
    "# plot the glider path\n",
    "pyplot.figure(figsize=(12,4))\n",
    "pyplot.subplot(121)\n",
    "pyplot.grid(True)\n",
    "pyplot.xlabel('$x$')\n",
    "pyplot.ylabel('$y$')\n",
    "pyplot.plot(time[:idx_ground_euler], H[:idx_ground_euler], 'k-', label='Euler')\n",
    "\n",
    "#pyplot.title('distance traveled: {:.3f}'.format(x_rk2[idx_ground_rk2-1]))\n",
    "pyplot.legend();\n",
    "\n",
    "#--------------------------------------------------------------------------------------------------\n",
    "\n",
    "print(idx_ground_euler)\n",
    "print(\"H=\",H)\n",
    "print(\"V=\",V)"
   ]
  },
  {
   "cell_type": "code",
   "execution_count": 12,
   "metadata": {
    "collapsed": false
   },
   "outputs": [
    {
     "name": "stdout",
     "output_type": "stream",
     "text": [
      "0.2\n",
      "MaxV= 237.200781611\n",
      "MaxH= 1372.03511792\n"
     ]
    }
   ],
   "source": [
    "import numpy\n",
    "T = 100                          # final time\n",
    "dt = 0.1                           # time increment\n",
    "N = int(T/dt) + 1                  # number of time-steps\n",
    "t = numpy.linspace(0, T, N)    \n",
    "print(t[2])\n",
    "b=max(V)\n",
    "d=max(H)\n",
    "print(\"MaxV=\",b)\n",
    "print(\"MaxH=\",d)"
   ]
  },
  {
   "cell_type": "code",
   "execution_count": 13,
   "metadata": {
    "collapsed": false
   },
   "outputs": [
    {
     "name": "stdout",
     "output_type": "stream",
     "text": [
      "step= 51\n",
      "TimeForMaxV= 5.1\n"
     ]
    }
   ],
   "source": [
    "#c=V.index(max(V))\n",
    "for n in range(N-1):\n",
    "    if V[n] == b:\n",
    "        print(\"step=\",n)\n",
    "        print(\"TimeForMaxV=\",time[n])\n",
    "        #print(\"H=\",H[n])\n",
    "    #else:\n",
    "        #print(\"have not find\")\n"
   ]
  },
  {
   "cell_type": "code",
   "execution_count": 14,
   "metadata": {
    "collapsed": false
   },
   "outputs": [
    {
     "name": "stdout",
     "output_type": "stream",
     "text": [
      "MaxH= 1372.03511792\n",
      "step= 159\n",
      "TimeForMaxH= 15.9\n",
      "H= 1372.03511792\n",
      "V= -0.600412997518\n"
     ]
    }
   ],
   "source": [
    "d=max(H)\n",
    "print(\"MaxH=\",d)\n",
    "for n in range(N-1):\n",
    "    if H[n]==d:\n",
    "        print(\"step=\",n)\n",
    "        print(\"TimeForMaxH=\",time[n])\n",
    "        print(\"H=\",H[n]) \n",
    "        print(\"V=\",V[n])  \n",
    "    "
   ]
  },
  {
   "cell_type": "code",
   "execution_count": 8,
   "metadata": {
    "collapsed": false
   },
   "outputs": [
    {
     "name": "stdout",
     "output_type": "stream",
     "text": [
      "The Velcoity to hit the ground= -86.1065777359\n",
      "TimeForHinttheGround= 37.6\n"
     ]
    }
   ],
   "source": [
    "hint=V[idx_ground_euler-1]\n",
    "print(\"The Velcoity to hit the ground=\",hint)\n",
    "for n in range(0,N-1,1):\n",
    "    if V[n]==hint:        \n",
    "        print(\"TimeForHinttheGround=\",time[n])\n",
    "       "
   ]
  },
  {
   "cell_type": "code",
   "execution_count": null,
   "metadata": {
    "collapsed": true
   },
   "outputs": [],
   "source": []
  },
  {
   "cell_type": "code",
   "execution_count": 77,
   "metadata": {
    "collapsed": false
   },
   "outputs": [
    {
     "name": "stdout",
     "output_type": "stream",
     "text": [
      "36.0\n"
     ]
    }
   ],
   "source": [
    "print(MpFun(3.2))\n"
   ]
  },
  {
   "cell_type": "code",
   "execution_count": null,
   "metadata": {
    "collapsed": true
   },
   "outputs": [],
   "source": []
  }
 ],
 "metadata": {
  "kernelspec": {
   "display_name": "Python 3",
   "language": "python",
   "name": "python3"
  },
  "language_info": {
   "codemirror_mode": {
    "name": "ipython",
    "version": 3
   },
   "file_extension": ".py",
   "mimetype": "text/x-python",
   "name": "python",
   "nbconvert_exporter": "python",
   "pygments_lexer": "ipython3",
   "version": "3.4.3"
  }
 },
 "nbformat": 4,
 "nbformat_minor": 0
}
