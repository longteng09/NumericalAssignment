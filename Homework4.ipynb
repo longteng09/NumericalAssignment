{
 "cells": [
  {
   "cell_type": "code",
   "execution_count": null,
   "metadata": {
    "collapsed": false
   },
   "outputs": [],
   "source": [
    "import numpy\n",
    "uvinitial = numpy.load('uvinitial.npz')\n",
    "U = uvinitial['U']\n",
    "V = uvinitial['V']"
   ]
  },
  {
   "cell_type": "code",
   "execution_count": null,
   "metadata": {
    "collapsed": false
   },
   "outputs": [],
   "source": [
    "#print(U)\n",
    "#print(U.shape)"
   ]
  },
  {
   "cell_type": "code",
   "execution_count": null,
   "metadata": {
    "collapsed": false
   },
   "outputs": [],
   "source": [
    "#print(V)\n",
    "#print(V.shape)"
   ]
  },
  {
   "cell_type": "code",
   "execution_count": null,
   "metadata": {
    "collapsed": true
   },
   "outputs": [],
   "source": [
    "n = 192\n",
    "Du, Dv, F, k = 0.00016, 0.00008, 0.035, 0.065 # Bacteria 1 \n",
    "dh = 5./(n-1)\n",
    "T = 8000\n",
    "dt = 0.9 * dh**2 / (4*max(Du,Dv))\n",
    "nt = int(T/dt)"
   ]
  },
  {
   "cell_type": "code",
   "execution_count": null,
   "metadata": {
    "collapsed": false
   },
   "outputs": [],
   "source": []
  },
  {
   "cell_type": "code",
   "execution_count": 1,
   "metadata": {
    "collapsed": false
   },
   "outputs": [],
   "source": [
    "import numpy\n",
    "uvinitial = numpy.load('uvinitial.npz')\n",
    "U = uvinitial['U']\n",
    "V = uvinitial['V']\n",
    "\n",
    "n = 192\n",
    "Du, Dv, F, k = 0.00016, 0.00008, 0.035, 0.065 \n",
    "dh = 5./(n-1)\n",
    "T = 8000\n",
    "dt = 0.9 * dh**2 / (4*max(Du,Dv))\n",
    "nt = int(T/dt)"
   ]
  },
  {
   "cell_type": "code",
   "execution_count": 2,
   "metadata": {
    "collapsed": false
   },
   "outputs": [],
   "source": [
    "\n",
    "\n",
    "def result(U, V, n,Du,Dv,F,k,dh,dt,nt): \n",
    "    \n",
    "    dx=dh\n",
    "    dy=dh   \n",
    "   \n",
    "    for n in range(nt):\n",
    "            u=U.copy()           \n",
    "            v=V.copy()\n",
    "            cu=U.copy()\n",
    "            cv=V.copy()            \n",
    "           \n",
    "    \n",
    "            au=Du/dx**2\n",
    "            bu=Du/dy**2\n",
    "            cu[1:-1,1:-1]=au*(u[2:,1:-1] - 2*u[1:-1,1:-1]+u[0:-2,1:-1]) + bu*(u[1:-1,2:] - 2*u[1:-1,1:-1]+u[1:-1,0:-2])\n",
    "            \n",
    "            U[1:-1,1:-1]=u[1:-1,1:-1] + dt*cu[1:-1,1:-1]- dt*u[1:-1,1:-1]*(v[1:-1,1:-1]**2) + dt*F*(1 -u[1:-1,1:-1])\n",
    "             \n",
    "            av=Dv/dx**2\n",
    "            bv=Dv/dy**2 \n",
    "            cv[1:-1,1:-1]=av*(v[2:,1:-1] - 2*v[1:-1,1:-1] + v[0:-2,1:-1]) + bv*(v[1:-1,2:] - 2*v[1:-1,1:-1]+v[1:-1,0:-2])           \n",
    "           \n",
    "            V[1:-1,1:-1]=v[1:-1,1:-1] + dt*cv[1:-1,1:-1] + dt*u[1:-1,1:-1]*(v[1:-1,1:-1]**2) - dt*(F+k)*v[1:-1,1:-1]\n",
    "            \n",
    "            \n",
    "            # Enforce Neumann BCs\n",
    "            U[ 0,: ]=U[1,:]\n",
    "            U[ :,-1]=U[:,-2]\n",
    "            U[ :,0]= U[:, 1]\n",
    "            U[-1,:]=U[-2,:]\n",
    "            \n",
    "            V[ 0,: ]=V[1,:]\n",
    "            V[ :,-1]=V[:,-2]\n",
    "            V[ :,0]= V[:, 1]\n",
    "            V[-1,:]=V[-2,:]\n",
    "    return U,V"
   ]
  },
  {
   "cell_type": "code",
   "execution_count": 3,
   "metadata": {
    "collapsed": false
   },
   "outputs": [
    {
     "name": "stdout",
     "output_type": "stream",
     "text": [
      "[ 0.92469521  0.85013834  0.66815621  0.90196481  0.9039502 ]\n"
     ]
    }
   ],
   "source": [
    "final=result(U, V, n,Du,Dv,F,k,dh,dt,nt)\n",
    "udata=final[0]\n",
    "print(udata[100,::40])"
   ]
  },
  {
   "cell_type": "code",
   "execution_count": null,
   "metadata": {
    "collapsed": true
   },
   "outputs": [],
   "source": []
  },
  {
   "cell_type": "code",
   "execution_count": null,
   "metadata": {
    "collapsed": true
   },
   "outputs": [],
   "source": []
  },
  {
   "cell_type": "code",
   "execution_count": null,
   "metadata": {
    "collapsed": true
   },
   "outputs": [],
   "source": []
  }
 ],
 "metadata": {
  "kernelspec": {
   "display_name": "Python 3",
   "language": "python",
   "name": "python3"
  },
  "language_info": {
   "codemirror_mode": {
    "name": "ipython",
    "version": 3
   },
   "file_extension": ".py",
   "mimetype": "text/x-python",
   "name": "python",
   "nbconvert_exporter": "python",
   "pygments_lexer": "ipython3",
   "version": "3.4.3"
  }
 },
 "nbformat": 4,
 "nbformat_minor": 0
}
