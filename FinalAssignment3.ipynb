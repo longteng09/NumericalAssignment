{
 "cells": [
  {
   "cell_type": "code",
   "execution_count": 3,
   "metadata": {
    "collapsed": true
   },
   "outputs": [],
   "source": [
    "%matplotlib inline\n",
    "import numpy\n",
    "import math\n",
    "import matplotlib.pyplot as plt"
   ]
  },
  {
   "cell_type": "code",
   "execution_count": 4,
   "metadata": {
    "collapsed": true
   },
   "outputs": [],
   "source": [
    "from matplotlib import animation\n",
    "from JSAnimation.IPython_display import display_animation"
   ]
  },
  {
   "cell_type": "code",
   "execution_count": 5,
   "metadata": {
    "collapsed": false
   },
   "outputs": [
    {
     "name": "stdout",
     "output_type": "stream",
     "text": [
      "left\n",
      "250000.00000000006\n",
      "250000.00000000006\n",
      "right\n",
      "25000.000000000007\n"
     ]
    }
   ],
   "source": [
    "print(\"left\")\n",
    "Pleft=100*1000\n",
    "uleft=0\n",
    "Y=1.4\n",
    "rholeft=1\n",
    "eleft=Pleft/((Y-1)*rholeft)\n",
    "print(eleft)\n",
    "u3L=rholeft*(eleft+0.5*uleft**2)\n",
    "print(u3L)\n",
    "\n",
    "print(\"right\")\n",
    "P=10*1000\n",
    "u=0\n",
    "Y=1.4\n",
    "rho=0.125\n",
    "eright=P/((Y-1)*rho)\n",
    "u3R=rho*(eright+0.5*u**2)\n",
    "print(u3R)"
   ]
  },
  {
   "cell_type": "code",
   "execution_count": 6,
   "metadata": {
    "collapsed": true
   },
   "outputs": [],
   "source": [
    "def u1_initial(nx):    \n",
    "    u1=numpy.ones(nx)*0.125        \n",
    "    u1[0:2/4*(nx-1)+1]=1  \n",
    "    \n",
    "    return u1\n",
    "\n",
    "def u2_initial(nx):    \n",
    "    u2=numpy.zeros(nx)    \n",
    "    return u2\n",
    "\n",
    "def u3_initial(nx):    \n",
    "    u3=numpy.ones(nx)*u3R      \n",
    "    \n",
    "    u3[0:2/4*(nx-1)+1]=u3L\n",
    "    return u3\n",
    "    "
   ]
  },
  {
   "cell_type": "code",
   "execution_count": 7,
   "metadata": {
    "collapsed": true
   },
   "outputs": [],
   "source": [
    "nx = 81\n",
    "#dx = .25\n",
    "#dt = .0002   \n",
    "#Y = 1.4\n",
    "#nt = 100\n"
   ]
  },
  {
   "cell_type": "code",
   "execution_count": 8,
   "metadata": {
    "collapsed": false
   },
   "outputs": [
    {
     "name": "stderr",
     "output_type": "stream",
     "text": [
      "/home/longteng09/anaconda3/lib/python3.4/site-packages/ipykernel/__main__.py:3: DeprecationWarning: using a non-integer number instead of an integer will result in an error in the future\n",
      "  app.launch_new_instance()\n"
     ]
    },
    {
     "data": {
      "image/png": "[encoded data removed]",
      "text/plain": [
       "<matplotlib.figure.Figure at 0x7f26f7ac9128>"
      ]
     },
     "metadata": {},
     "output_type": "display_data"
    }
   ],
   "source": [
    "u1 = u1_initial(nx).copy()\n",
    "x = numpy.linspace(-10,10,nx)\n",
    "#print(u1)\n",
    "#print(x)\n",
    "plt.plot(x, u1, color='#003366', ls='-', lw=3)\n",
    "plt.ylim(0,2);\n"
   ]
  },
  {
   "cell_type": "code",
   "execution_count": 9,
   "metadata": {
    "collapsed": false
   },
   "outputs": [
    {
     "data": {
      "image/png": "[encoded data removed]",
      "text/plain": [
       "<matplotlib.figure.Figure at 0x7f26f7af0b70>"
      ]
     },
     "metadata": {},
     "output_type": "display_data"
    }
   ],
   "source": [
    "u2 = u2_initial(nx).copy()\n",
    "x = numpy.linspace(-10,10,nx)\n",
    "#print(u2)\n",
    "#print(x)\n",
    "plt.plot(x, u2, color='#003366', ls='-', lw=3)\n",
    "plt.ylim(-3,3);\n"
   ]
  },
  {
   "cell_type": "code",
   "execution_count": 10,
   "metadata": {
    "collapsed": false
   },
   "outputs": [
    {
     "name": "stderr",
     "output_type": "stream",
     "text": [
      "/home/longteng09/anaconda3/lib/python3.4/site-packages/ipykernel/__main__.py:14: DeprecationWarning: using a non-integer number instead of an integer will result in an error in the future\n"
     ]
    },
    {
     "data": {
      "image/png": "[encoded data removed]",
      "text/plain": [
       "<matplotlib.figure.Figure at 0x7f26f5a17908>"
      ]
     },
     "metadata": {},
     "output_type": "display_data"
    }
   ],
   "source": [
    "u3 = u3_initial(nx).copy()\n",
    "x = numpy.linspace(-10,10,nx)\n",
    "#print(u3)\n",
    "#print(x)\n",
    "plt.plot(x, u3, color='#003366', ls='-', lw=3)\n",
    "plt.ylim(0,400000);"
   ]
  },
  {
   "cell_type": "code",
   "execution_count": null,
   "metadata": {
    "collapsed": false
   },
   "outputs": [],
   "source": []
  },
  {
   "cell_type": "code",
   "execution_count": 11,
   "metadata": {
    "collapsed": true
   },
   "outputs": [],
   "source": [
    "#computeF1 = lambda u2: u2\n",
    "#computeF2 = lambda u1 u2 u3 Y: (u2**2/u1)+(Y-1)*(u3-0.5*(u2**2)/u1)\n",
    "#computeF3 = lambda u1 u2 u3 Y: (u3+(Y-1)*(u3-0.5*(u2**2)/u1))*u2/u1"
   ]
  },
  {
   "cell_type": "code",
   "execution_count": null,
   "metadata": {
    "collapsed": true
   },
   "outputs": [],
   "source": []
  },
  {
   "cell_type": "code",
   "execution_count": 12,
   "metadata": {
    "collapsed": false
   },
   "outputs": [],
   "source": [
    "#def computeF1(u2):\n",
    "#    return u2\n",
    "\n",
    "#def computeF2(u1,u2,u3):\n",
    "#    Y=1.4\n",
    "#    return (u2**2/u1)+(Y-1)*(u3-0.5*(u2**2)/u1)\n",
    "\n",
    "#def computeF3(u1,u2,u3):\n",
    "#    Y=1.4\n",
    "#    return (u3+(Y-1)*(u3-0.5*(u2**2)/u1))*u2/u1"
   ]
  },
  {
   "cell_type": "code",
   "execution_count": null,
   "metadata": {
    "collapsed": false
   },
   "outputs": [],
   "source": []
  },
  {
   "cell_type": "code",
   "execution_count": 13,
   "metadata": {
    "collapsed": true
   },
   "outputs": [],
   "source": [
    "def computeF1(u1,u2,u3):    \n",
    "    length=len(u1)\n",
    "    result=numpy.zeros(length)\n",
    "    for i in range(length):   \n",
    "\n",
    "        result[i]=u2[i]             \n",
    "     \n",
    "    return result"
   ]
  },
  {
   "cell_type": "code",
   "execution_count": 14,
   "metadata": {
    "collapsed": true
   },
   "outputs": [],
   "source": [
    "def computeF2(u1,u2,u3):    \n",
    "    length=len(u1)\n",
    "    result=numpy.zeros(length)\n",
    "    Y=1.4\n",
    "    for i in range(length):   \n",
    "\n",
    "        result[i]=(u2[i]**2/u1[i])+(Y-1)*(u3[i]-0.5*(u2[i]**2)/u1[i])            \n",
    "     \n",
    "    return result"
   ]
  },
  {
   "cell_type": "code",
   "execution_count": 15,
   "metadata": {
    "collapsed": false
   },
   "outputs": [],
   "source": [
    "def computeF3(u1,u2,u3):    \n",
    "    length=len(u1)\n",
    "    result=numpy.zeros(length)\n",
    "    Y=1.4\n",
    "    for i in range(length):   \n",
    "\n",
    "        result[i]=(u3[i]+(Y-1)*(u3[i]-0.5*(u2[i]**2)/u1[i]))*u2[i]/u1[i]            \n",
    "        \n",
    "    return result"
   ]
  },
  {
   "cell_type": "code",
   "execution_count": 16,
   "metadata": {
    "collapsed": false
   },
   "outputs": [
    {
     "name": "stdout",
     "output_type": "stream",
     "text": [
      "50.0\n"
     ]
    }
   ],
   "source": [
    "#print(computeF1(u1,u2,u3))\n",
    "#print(computeF2(u1,u2,u3))\n",
    "#print(computeF3(u1,u2,u3))\n",
    "nx = 81\n",
    "dx = 0.25\n",
    "dt = 0.0002   \n",
    "Y = 1.4\n",
    "nt=0.01/dt\n",
    "print(nt)\n",
    "nt=nt+1"
   ]
  },
  {
   "cell_type": "code",
   "execution_count": 17,
   "metadata": {
    "collapsed": false
   },
   "outputs": [
    {
     "name": "stderr",
     "output_type": "stream",
     "text": [
      "/home/longteng09/anaconda3/lib/python3.4/site-packages/ipykernel/__main__.py:3: DeprecationWarning: using a non-integer number instead of an integer will result in an error in the future\n",
      "  app.launch_new_instance()\n",
      "/home/longteng09/anaconda3/lib/python3.4/site-packages/ipykernel/__main__.py:4: DeprecationWarning: using a non-integer number instead of an integer will result in an error in the future\n",
      "/home/longteng09/anaconda3/lib/python3.4/site-packages/ipykernel/__main__.py:5: DeprecationWarning: using a non-integer number instead of an integer will result in an error in the future\n"
     ]
    }
   ],
   "source": [
    "def mainfunction(u1,u2,u3,nt, dt, dx):\n",
    "    \n",
    "    un1 = numpy.zeros((nt,len(u1)))\n",
    "    un2 = numpy.zeros((nt,len(u2)))\n",
    "    un3 = numpy.zeros((nt,len(u3)))\n",
    "    \n",
    "    un1[:] = u1.copy()\n",
    "    un2[:] = u2.copy()\n",
    "    un3[:] = u3.copy()\n",
    "    \n",
    "    u1_star = u1.copy()\n",
    "    u2_star = u2.copy()\n",
    "    u3_star = u3.copy()\n",
    "    \n",
    "    for i in range(1,int(nt)):        \n",
    "        F1 = computeF1(u1,u2,u3)\n",
    "        F2 = computeF2(u1,u2,u3)\n",
    "        F3 = computeF3(u1,u2,u3)    \n",
    "       \n",
    "        u1_star[:-1] = 0.5*(u1[1: ] +u1[:-1])- dt/(2*dx) * (F1[1:]-F1[:-1])\n",
    "        u2_star[:-1] = 0.5*(u2[1: ] +u2[:-1])- dt/(2*dx) * (F2[1:]-F2[:-1])\n",
    "        u3_star[:-1] = 0.5*(u3[1: ] +u3[:-1])- dt/(2*dx) * (F3[1:]-F3[:-1])\n",
    "            \n",
    "        F1_star = computeF1(u1_star, u2_star, u3_star)\n",
    "        F2_star = computeF2(u1_star, u2_star, u3_star)\n",
    "        F3_star = computeF3(u1_star, u2_star, u3_star) \n",
    "            \n",
    "        un1[i,1:-1] = u1[1 :-1]-dt/dx*(F1_star[1:-1]-F1_star[0 :-2])\n",
    "        un2[i,1:-1] = u2[1 :-1]-dt/dx*(F2_star[1:-1]-F2_star[0 :-2])\n",
    "        un3[i,1:-1] = u3[1 :-1]-dt/dx*(F3_star[1:-1]-F3_star[0 :-2])     \n",
    "        \n",
    "        u1 = un1[i].copy()\n",
    "        u2 = un2[i].copy()\n",
    "        u3 = un3[i].copy()\n",
    "   \n",
    "    return un1, un2, un3\n",
    "\n",
    "a=mainfunction(u1,u2,u3,nt,dt,dx)"
   ]
  },
  {
   "cell_type": "code",
   "execution_count": 18,
   "metadata": {
    "collapsed": false
   },
   "outputs": [
    {
     "name": "stdout",
     "output_type": "stream",
     "text": [
      "50\n"
     ]
    }
   ],
   "source": [
    "steps=(10+2.5)/(20/81)\n",
    "steps=int(steps)\n",
    "print(steps)"
   ]
  },
  {
   "cell_type": "code",
   "execution_count": 19,
   "metadata": {
    "collapsed": false
   },
   "outputs": [
    {
     "data": {
      "text/plain": [
       "50.0"
      ]
     },
     "execution_count": 19,
     "metadata": {},
     "output_type": "execute_result"
    }
   ],
   "source": [
    "12.5/dx"
   ]
  },
  {
   "cell_type": "code",
   "execution_count": 22,
   "metadata": {
    "collapsed": false
   },
   "outputs": [
    {
     "name": "stdout",
     "output_type": "stream",
     "text": [
      "[[ 0.  0.  0. ...,  0.  0.  0.]\n",
      " [ 0.  0.  0. ...,  0.  0.  0.]\n",
      " [ 0.  0.  0. ...,  0.  0.  0.]\n",
      " ..., \n",
      " [ 0.  0.  0. ...,  0.  0.  0.]\n",
      " [ 0.  0.  0. ...,  0.  0.  0.]\n",
      " [ 0.  0.  0. ...,  0.  0.  0.]]\n",
      "[[ 0.  0.  0. ...,  0.  0.  0.]\n",
      " [ 0.  0.  0. ...,  0.  0.  0.]\n",
      " [ 0.  0.  0. ...,  0.  0.  0.]\n",
      " ..., \n",
      " [ 0.  0.  0. ...,  0.  0.  0.]\n",
      " [ 0.  0.  0. ...,  0.  0.  0.]\n",
      " [ 0.  0.  0. ...,  0.  0.  0.]]\n",
      "292.611471527\n"
     ]
    }
   ],
   "source": [
    "print(a[1])\n",
    "vel=a[1]/a[0]\n",
    "\n",
    "print(vel)\n",
    "timevel=vel[-1,steps+1]\n",
    "print(timevel)\n",
    "\n"
   ]
  },
  {
   "cell_type": "code",
   "execution_count": 27,
   "metadata": {
    "collapsed": false
   },
   "outputs": [
    {
     "name": "stdout",
     "output_type": "stream",
     "text": [
      "[  0.00000000e+00   0.00000000e+00   0.00000000e+00   0.00000000e+00\n",
      "   0.00000000e+00   1.74622983e-13   2.23517418e-12   2.36672349e-11\n",
      "   2.28593126e-10   2.01009680e-09   1.61230564e-08   1.18160562e-07\n",
      "   7.92167233e-07   4.86199237e-06   2.73285225e-05   1.40665389e-04\n",
      "   6.62670131e-04   2.85433060e-03   1.12236369e-02   4.02024374e-02\n",
      "   1.30818748e-01   3.85453348e-01   1.02495092e+00   2.45273533e+00\n",
      "   5.27715406e+00   1.02257427e+01   1.79453556e+01   2.87635781e+01\n",
      "   4.25973831e+01   5.89879603e+01   7.73383652e+01   9.70564038e+01\n",
      "   1.17710083e+02   1.38916242e+02   1.60667796e+02   1.82592024e+02\n",
      "   2.04853448e+02   2.27455686e+02   2.49367101e+02   2.72033309e+02\n",
      "   2.88504441e+02   4.06325892e+02   3.45269385e+02   2.93112011e+02\n",
      "   2.91462198e+02   2.93909097e+02   2.92797287e+02   2.93274780e+02\n",
      "   2.93059476e+02   2.92954889e+02   2.92744253e+02   2.92521317e+02\n",
      "   2.92711273e+02   2.95132494e+02   3.00514380e+02   3.02251621e+02\n",
      "   2.89028968e+02   2.65852954e+02   2.66449837e+02   3.10078152e+02\n",
      "   3.53479417e+02   3.11670864e+02   1.46521409e+02   2.31927698e+01\n",
      "   1.96072708e+00   1.51815228e-01   1.18212961e-02   9.34805915e-04\n",
      "   7.50711412e-05   6.09448101e-06   4.95734589e-07   3.99109442e-08\n",
      "   3.13636847e-09   2.37289350e-10   1.70781277e-11   1.16415322e-12\n",
      "   8.14907253e-14   0.00000000e+00   0.00000000e+00   0.00000000e+00\n",
      "   0.00000000e+00]\n"
     ]
    },
    {
     "data": {
      "text/plain": [
       "[<matplotlib.lines.Line2D at 0x7f26f55ff9e8>]"
      ]
     },
     "execution_count": 27,
     "metadata": {},
     "output_type": "execute_result"
    },
    {
     "data": {
      "image/png": "[encoded data removed]",
      "text/plain": [
       "<matplotlib.figure.Figure at 0x7f26f56f3c50>"
      ]
     },
     "metadata": {},
     "output_type": "display_data"
    }
   ],
   "source": [
    "#vv=numpy.zeros(81)\n",
    "#for i in range(81):\n",
    "#      vv[i]=vel[49,i]\n",
    "\n",
    "vv = vel[49,:]\n",
    "\n",
    "print(vv) \n",
    "\n",
    "plt.plot(x, vv, color='#003366', ls='-', lw=3) "
   ]
  },
  {
   "cell_type": "code",
   "execution_count": null,
   "metadata": {
    "collapsed": false
   },
   "outputs": [],
   "source": []
  },
  {
   "cell_type": "code",
   "execution_count": null,
   "metadata": {
    "collapsed": false,
    "scrolled": true
   },
   "outputs": [],
   "source": []
  },
  {
   "cell_type": "code",
   "execution_count": null,
   "metadata": {
    "collapsed": true
   },
   "outputs": [],
   "source": []
  },
  {
   "cell_type": "code",
   "execution_count": 28,
   "metadata": {
    "collapsed": false
   },
   "outputs": [
    {
     "name": "stdout",
     "output_type": "stream",
     "text": [
      "(51, 81)\n",
      "[[ 1.     1.     1.    ...,  0.125  0.125  0.125]\n",
      " [ 1.     1.     1.    ...,  0.125  0.125  0.125]\n",
      " [ 1.     1.     1.    ...,  0.125  0.125  0.125]\n",
      " ..., \n",
      " [ 1.     1.     1.    ...,  0.125  0.125  0.125]\n",
      " [ 1.     1.     1.    ...,  0.125  0.125  0.125]\n",
      " [ 1.     1.     1.    ...,  0.125  0.125  0.125]]\n",
      "0.374691402648\n"
     ]
    }
   ],
   "source": [
    "den=a[0]\n",
    "print(den.shape)\n",
    "print(den)\n",
    "timeden=den[-1,steps+1]\n",
    "print(timeden)\n",
    "\n",
    "\n",
    "    \n",
    "#plt.plot(x, dd, color='#003366', ls='-', lw=3) "
   ]
  },
  {
   "cell_type": "code",
   "execution_count": 29,
   "metadata": {
    "collapsed": true
   },
   "outputs": [],
   "source": [
    "def dot(a,b):    \n",
    "    length=len(a)\n",
    "    result=numpy.zeros(length)\n",
    "    for i in range(length): \n",
    "        result[i]=a[i]*b[i]\n",
    "    return result\n"
   ]
  },
  {
   "cell_type": "code",
   "execution_count": 47,
   "metadata": {
    "collapsed": false
   },
   "outputs": [
    {
     "name": "stdout",
     "output_type": "stream",
     "text": [
      "(51, 81)\n",
      "[[ 250000.  250000.  250000. ...,   25000.   25000.   25000.]\n",
      " [ 250000.  250000.  250000. ...,   25000.   25000.   25000.]\n",
      " [ 250000.  250000.  250000. ...,   25000.   25000.   25000.]\n",
      " ..., \n",
      " [ 250000.  250000.  250000. ...,   25000.   25000.   25000.]\n",
      " [ 250000.  250000.  250000. ...,   25000.   25000.   25000.]\n",
      " [ 250000.  250000.  250000. ...,   25000.   25000.   25000.]]\n",
      "91668.0403769\n",
      "30250.8901676\n"
     ]
    }
   ],
   "source": [
    "rhoet=a[2]\n",
    "print(rhoet.shape)\n",
    "print(rhoet)\n",
    "RET=rhoet[-1,steps+1]\n",
    "print(RET)\n",
    "u=292.611471527\n",
    "den=0.374691402648\n",
    "pressure=(RET/den-0.5*u**2)*0.4*den\n",
    "print(pressure)\n"
   ]
  },
  {
   "cell_type": "code",
   "execution_count": 40,
   "metadata": {
    "collapsed": false
   },
   "outputs": [],
   "source": [
    "left=(0.4*uu3-0.2*dot(uu2,uu2))"
   ]
  },
  {
   "cell_type": "code",
   "execution_count": 42,
   "metadata": {
    "collapsed": false
   },
   "outputs": [
    {
     "name": "stdout",
     "output_type": "stream",
     "text": [
      "12838.0792442\n"
     ]
    }
   ],
   "source": []
  },
  {
   "cell_type": "code",
   "execution_count": null,
   "metadata": {
    "collapsed": true
   },
   "outputs": [],
   "source": []
  },
  {
   "cell_type": "code",
   "execution_count": null,
   "metadata": {
    "collapsed": true
   },
   "outputs": [],
   "source": []
  },
  {
   "cell_type": "code",
   "execution_count": null,
   "metadata": {
    "collapsed": true
   },
   "outputs": [],
   "source": []
  },
  {
   "cell_type": "code",
   "execution_count": null,
   "metadata": {
    "collapsed": true
   },
   "outputs": [],
   "source": [
    "v=a[0]\n",
    "print(v.shape)\n",
    "step=0.01/dt\n",
    "step=int(step)\n",
    "print(step)\n",
    "\n",
    "\n",
    "vv=v[50,:]\n",
    "print(vv.shape)\n",
    "print(vv)\n",
    "plt.plot(x, vv, color='#003366', ls='-', lw=3)"
   ]
  },
  {
   "cell_type": "code",
   "execution_count": null,
   "metadata": {
    "collapsed": true
   },
   "outputs": [],
   "source": []
  },
  {
   "cell_type": "code",
   "execution_count": null,
   "metadata": {
    "collapsed": true
   },
   "outputs": [],
   "source": []
  },
  {
   "cell_type": "code",
   "execution_count": null,
   "metadata": {
    "collapsed": true
   },
   "outputs": [],
   "source": []
  },
  {
   "cell_type": "code",
   "execution_count": null,
   "metadata": {
    "collapsed": true
   },
   "outputs": [],
   "source": [
    "def dot(a,b):    \n",
    "    length=len(a)\n",
    "    result=numpy.zeros(length)\n",
    "    for i in range(length): \n",
    "        result[i]=a[i]*b[i]\n",
    "    return result\n"
   ]
  },
  {
   "cell_type": "code",
   "execution_count": null,
   "metadata": {
    "collapsed": false
   },
   "outputs": [],
   "source": [
    "a=[1,2,3,4,5,6]\n",
    "aa=dot(a,a)\n",
    "print(aa)\n",
    "#print(a[0:2])\n",
    "#print(a[2:5])"
   ]
  },
  {
   "cell_type": "code",
   "execution_count": null,
   "metadata": {
    "collapsed": true
   },
   "outputs": [],
   "source": []
  },
  {
   "cell_type": "code",
   "execution_count": null,
   "metadata": {
    "collapsed": false
   },
   "outputs": [],
   "source": [
    "u3=a[2]\n",
    "left=(0.4*u3-0.2*dot(u2,u2))\n",
    "print(left)\n",
    "right=a[0]\n",
    "print(right)\n",
    "\n",
    "pressure=dot(left,right)"
   ]
  },
  {
   "cell_type": "code",
   "execution_count": null,
   "metadata": {
    "collapsed": true
   },
   "outputs": [],
   "source": []
  },
  {
   "cell_type": "code",
   "execution_count": null,
   "metadata": {
    "collapsed": true
   },
   "outputs": [],
   "source": []
  },
  {
   "cell_type": "code",
   "execution_count": null,
   "metadata": {
    "collapsed": false
   },
   "outputs": [],
   "source": [
    "u1=[1,1]\n",
    "u2=[2,2]\n",
    "u3=[3,3]\n",
    "b=computeF2(u1,u2,u3)\n",
    "print(b)\n",
    "c=computeF3(u1,u2,u3)\n",
    "print(c)"
   ]
  },
  {
   "cell_type": "code",
   "execution_count": null,
   "metadata": {
    "collapsed": true
   },
   "outputs": [],
   "source": []
  },
  {
   "cell_type": "code",
   "execution_count": null,
   "metadata": {
    "collapsed": true
   },
   "outputs": [],
   "source": [
    "def computeF1(u1,u2,u3):\n",
    "    \n",
    "    length=len(u1)\n",
    "    result=numpy.zeros(length)\n",
    "    for i in range(length):   \n",
    "\n",
    "        result[i]=u1[i]+u2[i]+u3[i]\n",
    "        print(i)      \n",
    "     \n",
    "    return result\n",
    "\n",
    "\n",
    "u1=[1,1]\n",
    "u2=[2,2]\n",
    "u3=[3,3]\n",
    "b=computeF1(u1,u2,u3)\n",
    "print(b)\n",
    "#u2=[1,3]\n",
    "#print(computeF1(u1))"
   ]
  },
  {
   "cell_type": "code",
   "execution_count": null,
   "metadata": {
    "collapsed": true
   },
   "outputs": [],
   "source": []
  },
  {
   "cell_type": "code",
   "execution_count": null,
   "metadata": {
    "collapsed": true
   },
   "outputs": [],
   "source": [
    "u1=[1,2,3]\n",
    "print(len(u1))"
   ]
  },
  {
   "cell_type": "code",
   "execution_count": null,
   "metadata": {
    "collapsed": true
   },
   "outputs": [],
   "source": []
  },
  {
   "cell_type": "code",
   "execution_count": null,
   "metadata": {
    "collapsed": true
   },
   "outputs": [],
   "source": [
    "a=[1,2,3,4,5,6,7]\n",
    "print(a)\n",
    "print(a[0:4])\n",
    "print(a[4:7])"
   ]
  },
  {
   "cell_type": "code",
   "execution_count": null,
   "metadata": {
    "collapsed": true
   },
   "outputs": [],
   "source": []
  },
  {
   "cell_type": "code",
   "execution_count": null,
   "metadata": {
    "collapsed": true
   },
   "outputs": [],
   "source": []
  },
  {
   "cell_type": "code",
   "execution_count": null,
   "metadata": {
    "collapsed": true
   },
   "outputs": [],
   "source": []
  },
  {
   "cell_type": "code",
   "execution_count": null,
   "metadata": {
    "collapsed": true
   },
   "outputs": [],
   "source": []
  },
  {
   "cell_type": "code",
   "execution_count": null,
   "metadata": {
    "collapsed": true
   },
   "outputs": [],
   "source": []
  },
  {
   "cell_type": "code",
   "execution_count": null,
   "metadata": {
    "collapsed": true
   },
   "outputs": [],
   "source": []
  },
  {
   "cell_type": "code",
   "execution_count": null,
   "metadata": {
    "collapsed": true
   },
   "outputs": [],
   "source": []
  },
  {
   "cell_type": "code",
   "execution_count": null,
   "metadata": {
    "collapsed": false
   },
   "outputs": [],
   "source": [
    "def computeF1(u1,u2,u3): \n",
    "\n",
    "             \n",
    "     \n",
    "    return u1,u2\n",
    "\n",
    "\n",
    "u1=[1,1]\n",
    "u2=[2,2]\n",
    "u3=[3,3]\n",
    "b=computeF1(u1,u2,u3)\n",
    "print(b[1])"
   ]
  },
  {
   "cell_type": "code",
   "execution_count": null,
   "metadata": {
    "collapsed": true
   },
   "outputs": [],
   "source": []
  },
  {
   "cell_type": "code",
   "execution_count": null,
   "metadata": {
    "collapsed": true
   },
   "outputs": [],
   "source": [
    "u1=[1,1]\n",
    "u2=[2,2]\n",
    "u3=[3,3]"
   ]
  },
  {
   "cell_type": "code",
   "execution_count": null,
   "metadata": {
    "collapsed": false
   },
   "outputs": [],
   "source": [
    "u=[u1,u2,u3]\n",
    "print(u[1])"
   ]
  },
  {
   "cell_type": "code",
   "execution_count": null,
   "metadata": {
    "collapsed": true
   },
   "outputs": [],
   "source": []
  },
  {
   "cell_type": "code",
   "execution_count": null,
   "metadata": {
    "collapsed": true
   },
   "outputs": [],
   "source": []
  }
 ],
 "metadata": {
  "kernelspec": {
   "display_name": "Python 3",
   "language": "python",
   "name": "python3"
  },
  "language_info": {
   "codemirror_mode": {
    "name": "ipython",
    "version": 3
   },
   "file_extension": ".py",
   "mimetype": "text/x-python",
   "name": "python",
   "nbconvert_exporter": "python",
   "pygments_lexer": "ipython3",
   "version": "3.4.3"
  }
 },
 "nbformat": 4,
 "nbformat_minor": 0
}
